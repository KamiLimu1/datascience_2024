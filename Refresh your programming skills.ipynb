{
 "cells": [
  {
   "cell_type": "markdown",
   "id": "f36a1065-f0f5-48f0-beaa-a03b5cd78f99",
   "metadata": {},
   "source": [
    "# Intro to Programming\n",
    "**Lesson objectives:**\n",
    "- Understand the basics of programming\n",
    "- Understand data types, variables, and basic operations\n",
    "- Understand control flow and loops\r\n",
    "\n",
    "NB: Run the cells to see outputs\n"
   ]
  },
  {
   "cell_type": "markdown",
   "id": "97448164-13d5-42ee-aac2-43793e5fe946",
   "metadata": {},
   "source": [
    "## Arithmetic & Variables"
   ]
  },
  {
   "cell_type": "markdown",
   "id": "fccfcc9d-ae54-409e-8700-5fc935bbd69b",
   "metadata": {},
   "source": [
    "### Printing"
   ]
  },
  {
   "cell_type": "markdown",
   "id": "20f82995-edeb-4967-9b06-e8ef4be93c11",
   "metadata": {},
   "source": [
    "One of the simplest (and most important!) tasks you can ask a computer to do is to print a message. \n",
    "\n",
    "In Python, we ask a computer to print a message for us by writing print() and putting the message inside the parentheses and enclosed in quotation marks."
   ]
  },
  {
   "cell_type": "code",
   "execution_count": null,
   "id": "f9859434-36c0-46bf-a1b6-21005dfe6e41",
   "metadata": {},
   "outputs": [],
   "source": [
    "print(\"Hello, world!\")"
   ]
  },
  {
   "cell_type": "markdown",
   "id": "85dec01b-f425-45e0-aa93-a69ac488b138",
   "metadata": {},
   "source": [
    "The code is inside the box (known as a **code cell**), and the computer's response (called the **output of the code**) is shown below the box. As you can see, the computer printed the message that we wanted."
   ]
  },
  {
   "cell_type": "markdown",
   "id": "7b37911c-e3f4-4ca4-87ee-3b2ebf6b8679",
   "metadata": {},
   "source": [
    "### Arithmetic \n"
   ]
  },
  {
   "cell_type": "markdown",
   "id": "9af8da3a-268d-4a0b-81fe-3c6e47c604a3",
   "metadata": {},
   "source": [
    "We can also print the value of some arithmetic operation (such as **addition, subtraction, multiplication, or division**).\n",
    "\n",
    "For instance, in the next code cell, the computer adds 2 to 1 and then prints the result, which is 3. Note that unlike when we were simply printing text, we don't use any quotation marks."
   ]
  },
  {
   "cell_type": "code",
   "execution_count": null,
   "id": "cb8e6808-6f35-416d-b0af-39ee4a6a36a9",
   "metadata": {},
   "outputs": [],
   "source": [
    "print(1 + 2)"
   ]
  },
  {
   "cell_type": "markdown",
   "id": "f00e34dc-cfbe-40d2-b7cd-b5ea80e8b321",
   "metadata": {},
   "source": [
    "Other operations you can do in Python are:\n",
    "For a list of common symbols you can use to construct conditions, check out the chart below.\n",
    "\n",
    "|**Operation** | **Example**     |\n",
    "|------------------|-------------|\n",
    "|Subtraction       | 5 - 4 = 1   |\n",
    "|Multiplication    | 5 * 6 = 30  |\n",
    "|Division          | 10 / 2 = 5  |\n",
    "|Exponent          | 3**2 = 6    |\n",
    " \n"
   ]
  },
  {
   "cell_type": "code",
   "execution_count": null,
   "id": "112ba38b",
   "metadata": {},
   "outputs": [],
   "source": [
    "print(6 - 2)"
   ]
  },
  {
   "cell_type": "code",
   "execution_count": null,
   "id": "2e505960-b2fa-49ec-8912-f87cf05e3e69",
   "metadata": {},
   "outputs": [],
   "source": [
    "print(6 * 2)"
   ]
  },
  {
   "cell_type": "code",
   "execution_count": null,
   "id": "0d2f8c34-adc9-407c-ad1c-73bd27036165",
   "metadata": {},
   "outputs": [],
   "source": [
    "print(6 ** 2)"
   ]
  },
  {
   "cell_type": "markdown",
   "id": "2492c35c-f463-43de-9a42-0c306f90cb62",
   "metadata": {},
   "source": [
    "### Comments\n",
    "\n"
   ]
  },
  {
   "cell_type": "markdown",
   "id": "cf384801-1bed-4305-a778-cd3c559df95e",
   "metadata": {},
   "source": [
    "We use comments to annotate what code is doing. They help other people to understand your code, and they can also be helpful if you haven't looked at your own code in a while. So far, the code that we have written is very short, but annotations become more important when you have written a lot of code.\n",
    "\n",
    "To indicate to Python that a line is comment (and not Python code), you need to write a **pound sign (#)** as the very first character."
   ]
  },
  {
   "cell_type": "code",
   "execution_count": null,
   "id": "9a4f641f-97f8-479f-bec3-7f70bc9edf59",
   "metadata": {},
   "outputs": [],
   "source": [
    "# add 3 to 2: This is a comment\n",
    "print(2 + 3)\n"
   ]
  },
  {
   "cell_type": "markdown",
   "id": "d56968a8-eeca-49fe-ab7b-7e80747297eb",
   "metadata": {},
   "source": [
    "**Note:**\n",
    "\n",
    "Once Python sees the pound sign and recognizes that the line is a comment, **it is completely ignored by the computer**. This is important, because just like English or Hindi (or any other language!), Python is a language with very strict rules that need to be followed. Python is stricter than a human listener, though, and will just error if it can't understand the code.\n",
    "\n",
    "We can see an example of this, in the code cell below. Python errors if we remove the pound sign, because the text in the comment is not valid Python code, so it can't be interpreted properly.\n",
    "\n"
   ]
  },
  {
   "cell_type": "code",
   "execution_count": null,
   "id": "a727fad9-a649-4550-a928-e35a8029fd2a",
   "metadata": {},
   "outputs": [],
   "source": [
    "Multiply 3 by 2"
   ]
  },
  {
   "cell_type": "markdown",
   "id": "34929685-f971-4953-ae4a-14207cbb4c5e",
   "metadata": {},
   "source": [
    "### Variables¶\r\n"
   ]
  },
  {
   "cell_type": "markdown",
   "id": "a9c6b846-093b-4899-afa1-82b12b33441e",
   "metadata": {},
   "source": [
    "So far, you have used code to make a calculation and print the result, and the result isn't saved anywhere. However, you can imagine that you might want to save the result to work with it later. For this, you'll need to use **variables** .\n",
    "\n"
   ]
  },
  {
   "cell_type": "markdown",
   "id": "ee2f67e4-6006-4095-8f8d-b00008e32b29",
   "metadata": {},
   "source": [
    "#### Creating Variables\n",
    "The next code cell creates a variable named ```test_var``` and assigns it the value that we get when we add 5 to 4.\r\n",
    "\r\n",
    "We then print the value that is assigned to the variable, which is 9."
   ]
  },
  {
   "cell_type": "code",
   "execution_count": null,
   "id": "bcbe0178-ac8d-4a71-a7ff-50f6230bcebd",
   "metadata": {},
   "outputs": [],
   "source": [
    "# Create a variable called test_var and give it a value of 4+5\n",
    "test_var = 4 + 5\n",
    "\n",
    "# Print the value of test_var\n",
    "print(test_var)"
   ]
  },
  {
   "cell_type": "markdown",
   "id": "1b3487bc-6801-48bd-9e37-9f4ee52e96e4",
   "metadata": {},
   "source": [
    "In general, to work with a variable, you need to begin by selecting the name you want to use. Variable names are ideally short and descriptive. They also need to satisfy several requirements:\n",
    "\n",
    "- They can't have spaces (e.g., test var is not allowed)\n",
    "- They can only include letters, numbers, and underscores (e.g., test_var! is not allowed)\n",
    "- They have to start with a letter or underscore (e.g., 1_var is not allowed)\n",
    "- Then, to create the variable, you need to use = to assign the value that you want it to have.\n",
    "\n",
    "You can always take a look at the value assigned to the variable by using print() and putting the name of the variable in parentheses.\n"
   ]
  },
  {
   "cell_type": "markdown",
   "id": "b2853c5f-fc25-4a4e-b9f2-a66474bfd519",
   "metadata": {},
   "source": [
    "#### Manipulating variables¶\n",
    "You can always change the value assigned to a variable by overriding the previous value.\n",
    "\n",
    "In the code cell below, we change the value of ```my_var``` from 3 to 100."
   ]
  },
  {
   "cell_type": "code",
   "execution_count": null,
   "id": "fe9411dd-807f-478c-b941-9f4aff758040",
   "metadata": {},
   "outputs": [],
   "source": [
    "# Set the value of a new variable to 3\n",
    "my_var = 3\n",
    "\n",
    "# Print the value assigned to my_var\n",
    "print(my_var)"
   ]
  },
  {
   "cell_type": "code",
   "execution_count": null,
   "id": "f3fd1a42-8c61-4dbf-9d18-8ca75c5647f8",
   "metadata": {},
   "outputs": [],
   "source": [
    "# Change the value of the variable to 100\n",
    "my_var = 100\n",
    "\n",
    "# Print the new value assigned to my_var\n",
    "print(my_var)"
   ]
  },
  {
   "cell_type": "markdown",
   "id": "46c83c4e-b4b7-4015-996f-229d13b34502",
   "metadata": {},
   "source": [
    "Note that in general, whenever you define a variable in a code cell, all of the code cells that follow also have access to the variable. For instance, we use the next code cell to access the values of ```my_var``` (from the code cell above) and ```test_var``` (from earlier in this tutorial).\n"
   ]
  },
  {
   "cell_type": "code",
   "execution_count": null,
   "id": "1471cec7-bf37-4d19-837e-101b3c167fae",
   "metadata": {},
   "outputs": [],
   "source": [
    "print(my_var)\n",
    "print(test_var)"
   ]
  },
  {
   "cell_type": "markdown",
   "id": "64994dac-f9fa-4cea-a682-feae9bae23fc",
   "metadata": {},
   "source": [
    "#### Using multiple variables¶\n",
    "It's common for code to use multiple variables. This is especially useful when we have to do a long calculation with multiple inputs.\n",
    "\n",
    "In the next code cell, we calculate the number of seconds in four years. This calculation uses five inputs."
   ]
  },
  {
   "cell_type": "code",
   "execution_count": null,
   "id": "52d99a31-8177-4e0f-9402-4c27c32f637e",
   "metadata": {},
   "outputs": [],
   "source": [
    "# Create variables\n",
    "num_years = 4\n",
    "days_per_year = 365 \n",
    "hours_per_day = 24\n",
    "mins_per_hour = 60\n",
    "secs_per_min = 60\n",
    "\n",
    "# Calculate number of seconds in four years\n",
    "total_secs = secs_per_min * mins_per_hour * hours_per_day * days_per_year * num_years\n",
    "print(total_secs)"
   ]
  },
  {
   "cell_type": "markdown",
   "id": "4ee3c457-0df2-44fc-9078-2129be11241f",
   "metadata": {},
   "source": [
    "As calculated above, there are 126144000 seconds in four years.\n",
    "\n",
    "Note it is possible to do this calculation without variables as just 60 * 60 * 24 * 365 * 4, but it is much harder to check that the calculation without variables does not have some error, because it is not as readable. When we use variables (such as num_years, days_per_year, etc), we can better keep track of each part of the calculation and more easily check for and correct any mistakes.\n",
    "\n",
    "Note that it is particularly useful to use variables when the values of the inputs can change. For instance, say we want to slightly improve our estimate by updating the value of the number of days in a year from 365 to 365.25, to account for leap years. Then we can change the value assigned to days_per_year without changing any of the other variables and redo the calculation."
   ]
  },
  {
   "cell_type": "code",
   "execution_count": null,
   "id": "3d45f042-cc04-4b52-966e-7c2537e097fc",
   "metadata": {},
   "outputs": [],
   "source": [
    "# Update to include leap years\n",
    "days_per_year = 365.25\n",
    "\n",
    "\n",
    "# Calculate the number of seconds in four years\n",
    "total_secs = secs_per_min * mins_per_hour * hours_per_day * days_per_year * num_years\n",
    "print(total_secs)"
   ]
  },
  {
   "cell_type": "markdown",
   "id": "53fbdada-c43a-4ec4-8510-c2eda734d593",
   "metadata": {
    "jp-MarkdownHeadingCollapsed": true
   },
   "source": [
    "### Debugging"
   ]
  },
  {
   "cell_type": "markdown",
   "id": "9d437298-5f89-42f7-8495-c98cd850588c",
   "metadata": {},
   "source": [
    "One common error when working with variables is to accidentally introduce typos. For instance, if we spell ```hours_per_day``` as ```hours_per_dy```, Python will error with message ```NameError: name 'hours_per_dy' is not defined```."
   ]
  },
  {
   "cell_type": "code",
   "execution_count": null,
   "id": "de39c11d-62d3-4a46-ba56-e131758786b5",
   "metadata": {},
   "outputs": [],
   "source": [
    "print(hours_per_dy)"
   ]
  },
  {
   "cell_type": "markdown",
   "id": "a02bff2e-252e-4f9f-aa26-250ca968995f",
   "metadata": {},
   "source": [
    "When you see ```NameError``` like this, it's an indication that you should check how you have spelled the variable that it references as \"not defined\". Then, to fix the error, you need only correct the spelling."
   ]
  },
  {
   "cell_type": "code",
   "execution_count": null,
   "id": "f60fae59-f887-453f-9868-404e5a45e9c0",
   "metadata": {},
   "outputs": [],
   "source": [
    "print(hours_per_day)\n"
   ]
  },
  {
   "cell_type": "markdown",
   "id": "b5964ee9-f89c-4ebb-966a-43d2bdbedc30",
   "metadata": {
    "jp-MarkdownHeadingCollapsed": true
   },
   "source": [
    "## Functions"
   ]
  },
  {
   "cell_type": "markdown",
   "id": "443ebaec-d038-4d0e-a450-aaa021911ff3",
   "metadata": {
    "jp-MarkdownHeadingCollapsed": true
   },
   "source": [
    "### Introduction to Functions"
   ]
  },
  {
   "cell_type": "markdown",
   "id": "21debcdc-ba61-4d1d-9cfc-816927326d18",
   "metadata": {},
   "source": [
    "A **function** is a block of code designed to perform a specific task. As you'll see, functions will let you do roughly the same calculation multiple times without duplicating any code."
   ]
  },
  {
   "cell_type": "code",
   "execution_count": null,
   "id": "aedb7eac-80f3-46b3-be8f-6143247be0a8",
   "metadata": {},
   "outputs": [],
   "source": [
    "# Define the function\n",
    "def add_three(input_var):\n",
    "    output_var = input_var + 3\n",
    "    return output_var"
   ]
  },
  {
   "cell_type": "markdown",
   "id": "cefd044d-9f92-4c3e-bc16-bc906ab6c4d6",
   "metadata": {},
   "source": [
    "Every function is composed of two pieces: a **header** and **body**."
   ]
  },
  {
   "cell_type": "markdown",
   "id": "eab39e46-f5ff-4c36-8616-bb2c52104b7a",
   "metadata": {
    "jp-MarkdownHeadingCollapsed": true
   },
   "source": [
    "#### Header\n",
    "The function header defines the name of the function and its argument(s).\n",
    "\n",
    "- Every function header begins with ```def```, which tells Python that we are about to define a function.\n",
    "- In the example, the function name is ```add_three```.\n",
    "- In the example, the argument is ```input_var```. The argument is the name of the variable that will be used as input to the function. It is always enclosed in parentheses that apppear immediately after the name of the function. (Note that a function can also have no arguments, or it can have multiple arguments. You'll see some examples of this later in the lesson.)\n",
    "- For every function, the parentheses enclosing the function argument(s) must be followed by a colon :.\n",
    "\n",
    "#### Body\n",
    "The function body specifies the work that the function does.\n",
    "\n",
    "- Every line of code in the function body must be indented exactly four spaces. You can do this by pushing the space bar four times, or by hitting the \"Tab\" button once on your keyboard. (As you learn more about Python, you may need to indent your code by more than four spaces, but you'll learn more about that later in this course.)\n",
    "- The function does its work by running all of the indented lines from top to bottom.\n",
    "    - It takes the argument as input, which in the example is input_var.\n",
    "    - The function creates a new variable ```output_var``` with the calculation ```output_var = input_var + 3```.\n",
    "- Then, the final line of code, called the return statement, just returns the value in ```output_var``` as the function's output.\n",
    "The code cell above just defines the function, but does not run it. The details of the function body will make more sense after the next code cell, when we actually run the function."
   ]
  },
  {
   "cell_type": "markdown",
   "id": "05777aac-a969-44bd-855f-fa86d891de21",
   "metadata": {
    "jp-MarkdownHeadingCollapsed": true
   },
   "source": [
    "### How to run (or \"call\") a function¶\n"
   ]
  },
  {
   "cell_type": "markdown",
   "id": "f65ea70a-19fa-4687-b140-1cc59ebaf27b",
   "metadata": {},
   "source": [
    "When we run a function, it can also be referred to as \"calling\" the function.\n",
    "\n",
    "In the code cell below, we run the function with ```10``` as the input value. We define a new variable ```new_number``` which is set to the output of the function."
   ]
  },
  {
   "cell_type": "code",
   "execution_count": null,
   "id": "34092384-e200-4a35-8f23-60dc468c4b77",
   "metadata": {},
   "outputs": [],
   "source": [
    "# Run the function with 10 as input\n",
    "new_number = add_three(10)\n",
    "\n",
    "# Check that the value is 13, as expected\n",
    "print(new_number)"
   ]
  },
  {
   "cell_type": "markdown",
   "id": "7a148b68-375e-4c1b-b8f6-18f2ab968e47",
   "metadata": {
    "jp-MarkdownHeadingCollapsed": true
   },
   "source": [
    "### Naming functions¶\n"
   ]
  },
  {
   "cell_type": "markdown",
   "id": "74c2c3ec-f2fd-4b5a-b622-d242c696bc56",
   "metadata": {},
   "source": [
    "When naming your own functions, you should use only lowercase letters, with words separated by underscores instead of spaces.\n",
    "##### Example\n",
    "Say you are helping a friend to calculate their weekly paycheck after taxes.\r\n",
    "\r\n",
    "\n",
    "\n",
    "- They're in a 12% tax bracket (in other words, 12% of their salary is taken for taxes, and they only take home 88%), and\n",
    "- They're paid hourly, at a rate of $15/hour.\r\n",
    "\r\n",
    "\n",
    "The function below calculates the paycheck based on the number of hours worked. The function is more complicated than with the first example, because the function has more lines of code and comments. Similar to the example above, the function has a single argument (num hours). In the function body, we:\n",
    "\n",
    "- Use the value for num_hours to specify the value for a new variable ```pay_pretax```.\n",
    "- Use the value of pay_pretax to specify the value for a new variable ```pay_aftertax```.\n",
    "- Return the value of the ```pay_aftertax``` variable.\n"
   ]
  },
  {
   "cell_type": "code",
   "execution_count": null,
   "id": "5ba1350c-0724-48dd-ade7-6f1c963f6d9c",
   "metadata": {},
   "outputs": [],
   "source": [
    "def get_pay(num_hours):\n",
    "    # Pre-tax pay, based on receiving $15/hour\n",
    "    pay_pretax = num_hours * 15\n",
    "    # After-tax pay, based on being in 12% tax bracket\n",
    "    pay_aftertax = pay_pretax * (1 - .12)\n",
    "    return pay_aftertax"
   ]
  },
  {
   "cell_type": "markdown",
   "id": "18222360-a538-43ec-b242-5c0896e4d7d9",
   "metadata": {},
   "source": [
    "We call this function the same way we called the first function. The next code cell calculates the paycheck, based on working 40 hours. (After taxes, it is $528.)\n",
    "\n"
   ]
  },
  {
   "cell_type": "code",
   "execution_count": null,
   "id": "78d56aa2-f4d6-4aa0-be6a-5786a24e630b",
   "metadata": {},
   "outputs": [],
   "source": [
    "# Calculate pay based on working 40 hours\n",
    "pay_fulltime = get_pay(40)\n",
    "print(pay_fulltime)"
   ]
  },
  {
   "cell_type": "markdown",
   "id": "e9f944ec-2a73-476e-9a73-dc6388126a1d",
   "metadata": {},
   "source": [
    "To quickly calculate pay based on a different number of hours worked, you need to supply the function with a different number. For instance, say your friend works 32 hours. (Then, they get $422.40.)\n",
    "\n"
   ]
  },
  {
   "cell_type": "code",
   "execution_count": null,
   "id": "23fb1834-abe7-4a15-90d9-52ebec92c800",
   "metadata": {},
   "outputs": [],
   "source": [
    "pay_parttime = get_pay(32)\n",
    "print(pay_parttime)"
   ]
  },
  {
   "cell_type": "markdown",
   "id": "b42c0a40-0929-4ecd-b2a0-fe9d4425e912",
   "metadata": {
    "jp-MarkdownHeadingCollapsed": true
   },
   "source": [
    "### Variable Scope"
   ]
  },
  {
   "cell_type": "markdown",
   "id": "65e44fac-4887-4c35-9f17-657f3dc9e075",
   "metadata": {},
   "source": [
    "Variables defined inside the function body cannot be accessed outside of the function. For instance, the next code cell errors, because ```pay_aftertax``` only exists inside the function.\n",
    "\n"
   ]
  },
  {
   "cell_type": "code",
   "execution_count": null,
   "id": "b54cf2d2-3743-4358-ba86-d406b3ced8fc",
   "metadata": {},
   "outputs": [],
   "source": [
    "print(pay_aftertax)\n"
   ]
  },
  {
   "cell_type": "markdown",
   "id": "6840379e-a18b-4a33-8e3f-dd2f408d996d",
   "metadata": {},
   "source": [
    "You will get the same error if you try to print ```pay_pretax``` or ```num_hours```. For this reason, if you need any information from a function, you need to make sure that appears in the return statement at the end of the function.\n",
    "\n",
    "We refer to a variable's **scope** as the part of the code where it is accessible. Variables defined inside a function (like ```pay_aftertax```) have a local scope of that function only. However, as you've seen, variables defined outside all functions (like ```pay_parttime```) have a global scope and can be accessed anywhere."
   ]
  },
  {
   "cell_type": "markdown",
   "id": "9acbd355-89db-4924-8128-2acce8368378",
   "metadata": {},
   "source": [
    "### Homework Part One\n",
    "\n",
    "Read on:\n",
    "- Functions with multiple arguments\n",
    "- Functions with no arguments"
   ]
  },
  {
   "cell_type": "markdown",
   "id": "31fd3b5c-5442-4ebe-95a5-931c9c7f7139",
   "metadata": {
    "jp-MarkdownHeadingCollapsed": true
   },
   "source": [
    "#### 1. Functions with multiple arguments¶\n",
    "So far, you have learned how to define a function with just one argument. To define a function with multiple arguments, you only need to add more arguments inside the parentheses in the function head and separate them with a comma.\r\n",
    "\r\n",
    "We do this with th```e get_pay_with_more_inputs```() function below, which calculates a weekly paycheck based on three argument\n",
    "\n",
    "- ```num_hours``` - number of hours worked in one week\n",
    "- ```hourly_wage``` - the hourly wage (in $/hour)\n",
    "- ```tax_bracket``` - percentage of your salary that is removed for taxesved for taxes"
   ]
  },
  {
   "cell_type": "code",
   "execution_count": null,
   "id": "52ade9f8-47bd-4c42-a9b5-eb10e0813cac",
   "metadata": {},
   "outputs": [],
   "source": [
    "def get_pay_with_more_inputs(num_hours, hourly_wage, tax_bracket):\n",
    "    # Pre-tax pay\n",
    "    pay_pretax = num_hours * hourly_wage\n",
    "    # After-tax pay\n",
    "    pay_aftertax = pay_pretax * (1 - tax_bracket)\n",
    "    return pay_aftertax"
   ]
  },
  {
   "cell_type": "markdown",
   "id": "5c20d0bf-b461-4e83-b54d-793b411ef52f",
   "metadata": {},
   "source": [
    "Then, to call the function, you need to provide one value for each input, again separated by a comma.\n",
    "\n",
    "In the code cell below, we calculate the pay after taxes for someone who works 40 hours, makes $24/hour, and is in a 22% tax bracket."
   ]
  },
  {
   "cell_type": "code",
   "execution_count": null,
   "id": "130c71de-274c-4c5d-9a39-b8da7234f41f",
   "metadata": {},
   "outputs": [],
   "source": [
    "higher_pay_aftertax = get_pay_with_more_inputs(40, 24, .22)\n",
    "print(higher_pay_aftertax)"
   ]
  },
  {
   "cell_type": "markdown",
   "id": "128299fb-4321-4bf0-a814-9f99e74ffac0",
   "metadata": {},
   "source": [
    "The following code cell gives the same result as when we ran ```get_pay(40)```, because ```hourly_wage``` is set to 15, and tax_bracket is set to 12%, which lines up with how we designed ```get_pay```"
   ]
  },
  {
   "cell_type": "markdown",
   "id": "95ee64ba-c789-4767-a720-1f28a821853e",
   "metadata": {},
   "source": [
    "Depending on how we plan to use this new function ```get_pay_with_more_inputs()```, it can be more useful than the original function ```get_pay()```, because it addresses more cases. Instead of potentially incorrectly assuming the hourly wage and tax bracket, the new function allows the user to specify the correct values. But, if you're sure the hourly wage and tax bracket won't need to change, the new function is just more complicated than necessary. In general, when defining functions, you'll need to consider how much flexibility you need, based on your use case.\n",
    "\n"
   ]
  },
  {
   "cell_type": "markdown",
   "id": "70f81f23-5107-4887-93c6-330712ab698f",
   "metadata": {},
   "source": [
    "#### 2. Functions with no arguments¶\n"
   ]
  },
  {
   "cell_type": "markdown",
   "id": "88ea0eb4-4d59-4eb8-95fe-3e8097026a17",
   "metadata": {},
   "source": [
    "Note that it's possible to define function with no arguments, and that don't have a return statement. The ```print_hello()``` function in the code cell below is an example.\n",
    "\n"
   ]
  },
  {
   "cell_type": "code",
   "execution_count": null,
   "id": "a1f37cb9-8f37-49d4-8226-8bf1f380465d",
   "metadata": {},
   "outputs": [],
   "source": [
    "# Define the function with no arguments and with no return\n",
    "def print_hello():\n",
    "    print(\"Hello, you!\")\n",
    "    print(\"Good morning!\")\n",
    "    \n",
    "# Call the function\n",
    "print_hello()"
   ]
  },
  {
   "cell_type": "markdown",
   "id": "0ba96c3d-9c39-4652-a8b2-0e8fb938f3bb",
   "metadata": {},
   "source": [
    "## Data Types"
   ]
  },
  {
   "cell_type": "markdown",
   "id": "ec9c0562-95af-4cb7-8ab4-9d949cdeda54",
   "metadata": {},
   "source": [
    "Whenever you create a variable in Python, it has a value with a corresponding data type.  There are many different data types, such as integers, floats, booleans, and strings, all of which we'll cover in this lesson. \n",
    "\n",
    "Data types are important, because they determine what kinds of actions you can do with them. For instance, you can divide two floats, but you cannot divide two strings. For instance, 12.0/2.0 makes sense, but \"cat\"/\"dog\" does not. "
   ]
  },
  {
   "cell_type": "markdown",
   "id": "039f0899-12fa-4530-945f-4d297755411f",
   "metadata": {},
   "source": [
    "### Integers\n",
    "\n",
    "Integers are numbers without any fractional part and can be positive (1, 2, 3, ...), negative (-1, -2, -3, ...), or zero (0).\n",
    "\n",
    "In the code cell below, we set a variable x to an integer. We then verify the data type with type(), and need only pass the variable name into the parentheses."
   ]
  },
  {
   "cell_type": "markdown",
   "id": "00b2080a-c6fd-4234-81c5-dfd4b4d65490",
   "metadata": {},
   "source": [
    "x = 14\n",
    "print(x)\n",
    "print(type(x))"
   ]
  },
  {
   "cell_type": "markdown",
   "id": "6493fd94-ac75-4283-b363-8ad3db9162f3",
   "metadata": {},
   "source": [
    "In the output above, ```<class 'int'>``` refers to the integer data type.\n",
    "\n"
   ]
  },
  {
   "cell_type": "markdown",
   "id": "bb13303c-b1c1-4404-949c-a93265b91272",
   "metadata": {
    "jp-MarkdownHeadingCollapsed": true
   },
   "source": [
    "### Floats\n",
    "Floats are numbers with fractional parts. They can have many numbers after decimal.\n",
    "\n"
   ]
  },
  {
   "cell_type": "code",
   "execution_count": null,
   "id": "bb330dc4-e39d-40bb-ac6f-7a7b8a8f98e9",
   "metadata": {},
   "outputs": [],
   "source": [
    "nearly_pi = 3.141592653589793238462643383279502884197169399375105820974944\n",
    "print(nearly_pi)\n",
    "print(type(nearly_pi))"
   ]
  },
  {
   "cell_type": "markdown",
   "id": "938e8aa3-92d3-411b-be4f-03258d300a2f",
   "metadata": {},
   "source": [
    "We can also specify a float with a fraction."
   ]
  },
  {
   "cell_type": "code",
   "execution_count": null,
   "id": "101de645-614a-4be9-84f0-48fef41fb140",
   "metadata": {},
   "outputs": [],
   "source": [
    "almost_pi = 22/7\n",
    "print(almost_pi)\n",
    "print(type(almost_pi))"
   ]
  },
  {
   "cell_type": "markdown",
   "id": "b5e46f2c-a93f-4e8a-ab91-9efc4b459457",
   "metadata": {},
   "source": [
    "One function that is particularly useful for fractions is the round() function. It lets you round a number to a specified number of decimal places.\r\n",
    "\r\n"
   ]
  },
  {
   "cell_type": "code",
   "execution_count": null,
   "id": "90148821-60f2-4678-8894-cd78f26889c4",
   "metadata": {},
   "outputs": [],
   "source": [
    "# Round to 5 decimal places\n",
    "rounded_pi = round(almost_pi, 5)\n",
    "print(rounded_pi)\n",
    "print(type(rounded_pi))"
   ]
  },
  {
   "cell_type": "markdown",
   "id": "80c946cd-af02-43b9-b441-231a7cc958ec",
   "metadata": {},
   "source": [
    "Whenever you write a number with a decimal point, Python recognizes it as a float data type.\n",
    "\n",
    "For instance, 1. (or 1.0, 1.00, etc) will be recognized as a float. This is the case, even though these numbers technically have no fractional part!"
   ]
  },
  {
   "cell_type": "code",
   "execution_count": null,
   "id": "6b02647a-cf22-436c-ab5f-b5708633c6ba",
   "metadata": {},
   "outputs": [],
   "source": [
    "y_float = 1.\n",
    "print(y_float)\n",
    "print(type(y_float))"
   ]
  },
  {
   "cell_type": "markdown",
   "id": "377b5f88-e0a6-44e1-aa06-c3cf36d53ec1",
   "metadata": {
    "jp-MarkdownHeadingCollapsed": true
   },
   "source": [
    "### Booleans¶\n",
    "Booleans represent one of two values: True or False. In the code cell below, ```z_one``` is set to a boolean with value ```True```"
   ]
  },
  {
   "cell_type": "code",
   "execution_count": null,
   "id": "2d2b1c1e-658f-47e7-a66e-6028efcf5168",
   "metadata": {},
   "outputs": [],
   "source": [
    "z_one = True\n",
    "print(z_one)\n",
    "print(type(z_one))"
   ]
  },
  {
   "cell_type": "markdown",
   "id": "932654f4-40d0-4368-8441-3686d2895cec",
   "metadata": {},
   "source": [
    "Next, ```z_two``` is set to a boolean with value ```False```.\n",
    "\n"
   ]
  },
  {
   "cell_type": "code",
   "execution_count": null,
   "id": "09c4e549-47d9-49ea-825e-a6fe4e7522fe",
   "metadata": {},
   "outputs": [],
   "source": [
    "z_two = False\n",
    "print(z_two)\n",
    "print(type(z_two))"
   ]
  },
  {
   "cell_type": "markdown",
   "id": "596fca53-3b57-473f-8068-99912dd04c6c",
   "metadata": {},
   "source": [
    "Booleans are used to represent the truth value of an expression. Since 1 < 2 is a true statement, ```z_three``` takes on a value of True.\n",
    "\n"
   ]
  },
  {
   "cell_type": "code",
   "execution_count": null,
   "id": "f6d540eb-a9c9-4fdc-a1bc-2b95704e42f0",
   "metadata": {},
   "outputs": [],
   "source": [
    "z_three = (1 < 2)\n",
    "print(z_three)\n",
    "print(type(z_three))"
   ]
  },
  {
   "cell_type": "markdown",
   "id": "778a4e04-2acd-426b-8b58-20d03cbe3040",
   "metadata": {},
   "source": [
    "Similarly, since ```5 < 3``` is a false statement, ```z_four``` takes on a value of ```False```.\n",
    "\n"
   ]
  },
  {
   "cell_type": "code",
   "execution_count": null,
   "id": "06f2433b-f77d-403e-8c47-7cf641ab392e",
   "metadata": {},
   "outputs": [],
   "source": [
    "z_five = not z_four\n",
    "print(z_five)\n",
    "print(type(z_five))"
   ]
  },
  {
   "cell_type": "markdown",
   "id": "af26c8bd-b6af-4016-b103-130a385b63af",
   "metadata": {},
   "source": [
    "Booleans will be important in the next lesson, when you learn about conditions and conditional statements.\n",
    "\n"
   ]
  },
  {
   "cell_type": "markdown",
   "id": "04f240ad-f494-4362-bf33-5c684076429a",
   "metadata": {},
   "source": [
    "### Strings¶\n",
    "The string data type is a collection of characters (like alphabet letters, punctuation, numerical digits, or symbols) contained in quotation marks. Strings are commonly used to represent text.\r\n",
    "\r\n"
   ]
  },
  {
   "cell_type": "code",
   "execution_count": null,
   "id": "3279e446-304c-42d1-8286-6bbac16d485b",
   "metadata": {},
   "outputs": [],
   "source": [
    "w = \"Hello, Python!\"\n",
    "print(w)\n",
    "print(type(w))"
   ]
  },
  {
   "cell_type": "markdown",
   "id": "0377db9e-a6f7-476d-82d8-4de943d1054a",
   "metadata": {},
   "source": [
    "You can get the length of a string with ```len()```. ```\"Hello, Python!\"``` has length 14, because it has 14 characters, including the space, comma, and exclamation mark. Note that the quotation marks are not included when calculating the length.\n",
    "\n"
   ]
  },
  {
   "cell_type": "code",
   "execution_count": null,
   "id": "ef599653-26a6-4418-b089-fda9969efd0c",
   "metadata": {},
   "outputs": [],
   "source": [
    "print(len(w))\n"
   ]
  },
  {
   "cell_type": "markdown",
   "id": "954d2ad4-aa15-4a93-9ea6-d3f8464d1bfd",
   "metadata": {},
   "source": [
    "One special type of string is the empty string, which has length zero.\n",
    "\n"
   ]
  },
  {
   "cell_type": "code",
   "execution_count": null,
   "id": "1430d8a6-e414-4a14-904a-28cbd6d3d7eb",
   "metadata": {},
   "outputs": [],
   "source": [
    "shortest_string = \"\"\n",
    "print(type(shortest_string))\n",
    "print(len(shortest_string))"
   ]
  },
  {
   "cell_type": "markdown",
   "id": "b6970068-7f94-41a7-b03b-e381da18b87a",
   "metadata": {},
   "source": [
    "If you put a number in quotation marks, it has a string data type.\n",
    "\n"
   ]
  },
  {
   "cell_type": "code",
   "execution_count": null,
   "id": "2b92802d-69a3-4f66-85e4-481cb46073ca",
   "metadata": {},
   "outputs": [],
   "source": [
    "my_number = \"1.12321\"\n",
    "print(my_number)\n",
    "print(type(my_number))"
   ]
  },
  {
   "cell_type": "markdown",
   "id": "efaa51ee-c4e5-4712-86a0-5c69ba183b29",
   "metadata": {},
   "source": [
    "If we have a string that is convertible to a float, we can use ```float()```.\n",
    "\n",
    "This won't always work! For instance, we can convert ```\"10.43430\"``` and ```\"3\"``` to floats, but we cannot convert ```\"Hello, Python!\"``` to a float."
   ]
  },
  {
   "cell_type": "code",
   "execution_count": null,
   "id": "df62cba5-0fe3-4fa6-a4b6-307d80d4fd97",
   "metadata": {},
   "outputs": [],
   "source": [
    "also_my_number = float(my_number)\n",
    "print(also_my_number)\n",
    "print(type(also_my_number))"
   ]
  },
  {
   "cell_type": "markdown",
   "id": "8fa0ca3c-e940-4daf-8457-9aad67c3fe76",
   "metadata": {},
   "source": [
    "Just like you can add two numbers (floats or integers), you can also add two strings. It results in a longer string that combines the two original strings by concatenating them.\n",
    "\n"
   ]
  },
  {
   "cell_type": "code",
   "execution_count": null,
   "id": "0e1b7165-66e4-4e82-b51e-f2332c78b216",
   "metadata": {},
   "outputs": [],
   "source": [
    "new_string = \"abc\" + \"def\"\n",
    "print(new_string)\n",
    "print(type(new_string))"
   ]
  },
  {
   "cell_type": "markdown",
   "id": "53fdcf11-7407-4f86-a5bb-da172b99b1db",
   "metadata": {},
   "source": [
    "Note that it's not possible to do subtraction or division with two strings. You also can't multiply two strings, but you can multiply a string by an integer. This again results in a string that's just the original string concatenated with itself a specified number of times.\n",
    "\n"
   ]
  },
  {
   "cell_type": "code",
   "execution_count": null,
   "id": "2c366b08-6d24-40a2-ba25-0be944a65004",
   "metadata": {},
   "outputs": [],
   "source": [
    "newest_string = \"abc\" * 3\n",
    "print(newest_string)\n",
    "print(type(newest_string))"
   ]
  },
  {
   "cell_type": "markdown",
   "id": "3c534a48-cf71-41e6-a72b-24f4ff530d3e",
   "metadata": {},
   "source": [
    "Note that you cannot multiply a string by a float! Trying to do so will return an error.\n",
    "\n"
   ]
  },
  {
   "cell_type": "code",
   "execution_count": null,
   "id": "04a8bc13-8e83-4c52-a950-2e1bf1449a66",
   "metadata": {},
   "outputs": [],
   "source": [
    "will_not_work = \"abc\" * 3.\n"
   ]
  },
  {
   "cell_type": "markdown",
   "id": "f4256f89-bd7e-4814-b05b-5d5a287fddc3",
   "metadata": {},
   "source": [
    "In the error, the \"sequence\" is the string ```\"abc\"```, and the \"non-int of type 'float'\" is the float (```3.```). So, the error message can be reworded to say \"can't multiply string by float\".\n",
    "\n"
   ]
  },
  {
   "cell_type": "markdown",
   "id": "e754b070-c6e7-488c-be8b-e28e1c1fa87e",
   "metadata": {},
   "source": [
    "## Conditions and Conditional Statements\n"
   ]
  },
  {
   "cell_type": "markdown",
   "id": "433cad9a-f92a-40a7-8154-64b6639d4b98",
   "metadata": {},
   "source": [
    "### Conditions¶\n",
    "\n",
    "In programming, **conditions** are statements that are either True or False. There are many different ways to write conditions in Python, but some of the most common ways of writing conditions just compare two different values. For instance, you can check if 2 is greater than 3."
   ]
  },
  {
   "cell_type": "code",
   "execution_count": null,
   "id": "00af0964-b7f6-486e-9cf8-1ad75cb2f0da",
   "metadata": {},
   "outputs": [],
   "source": [
    "print(2 > 3)\n"
   ]
  },
  {
   "cell_type": "markdown",
   "id": "56cf6608-8efd-4b4c-98db-6372999b1cda",
   "metadata": {},
   "source": [
    "Python identifies this as False, since 2 is not greater than 3.\n",
    "\n",
    "You can also use conditions to compare the values of variables. In the next code cell, ```var_one``` has a value of 1, and ```var_two``` has a value of two. In the conditions, we check if ```var_one``` is less than 1 (which is False), and we check if ```var_two``` is greater than or equal to ```var_one``` (which is True)."
   ]
  },
  {
   "cell_type": "code",
   "execution_count": null,
   "id": "11f624ea-37ea-4e4b-9e17-b26ddb3ec2cd",
   "metadata": {},
   "outputs": [],
   "source": [
    "var_one = 1\n",
    "var_two = 2\n",
    "\n",
    "print(var_one < 1)\n",
    "print(var_two >= var_one)"
   ]
  },
  {
   "cell_type": "markdown",
   "id": "b23247e2-7966-41e4-8b65-a3542dc07d06",
   "metadata": {},
   "source": [
    "For a list of common symbols you can use to construct conditions, check out the chart below.\n",
    "\n",
    "|**Symbol** | **Meaning**             |\n",
    "|-----------|-------------------------|\n",
    "|==         | equals                  |\n",
    "|<          | less than               |\n",
    "|<=         | less than or equal to   |\n",
    "|>          | greater than            |\n",
    "|>=         | greater than or equal to|"
   ]
  },
  {
   "cell_type": "markdown",
   "id": "b6f1ce79-d20a-4999-a472-025bca119929",
   "metadata": {},
   "source": [
    "**Important Note**: When you check two values are equal, make sure you use the == sign, and not the = sign.\n",
    "\n",
    "- var_one==1 checks if the value of var_one is 1, but\n",
    "- var_one=1 sets the value of var_one to 1."
   ]
  },
  {
   "cell_type": "markdown",
   "id": "3ce318d1-d357-4f72-a61a-36e9f01f5664",
   "metadata": {},
   "source": [
    "### Conditional statements¶\n"
   ]
  },
  {
   "cell_type": "markdown",
   "id": "547eb5a0-7a88-41fb-b24b-0f3e93fe4440",
   "metadata": {},
   "source": [
    "Conditional statements use **conditions** to modify how your function runs. They check the value of a condition, and if the condition evaluates to True, then a certain block of code is executed. (Otherwise, if the condition is False, then the code is not run.)\n",
    "\n",
    "You will see several examples of this in the following sections."
   ]
  },
  {
   "cell_type": "markdown",
   "id": "45c8bad9-0da9-475b-9606-7f7e1a994b7f",
   "metadata": {},
   "source": [
    "#### \"if\" statements¶\n"
   ]
  },
  {
   "cell_type": "markdown",
   "id": "06e0a2f0-8e73-4d95-a4eb-c2cc475a5a9b",
   "metadata": {},
   "source": [
    "The simplest type of conditional statement is an \"if\" statement. You can see an example of this in the ```evaluate_temp()``` function below. The function accepts a body temperature (in Celcius) as input.\n",
    "\n",
    "- Initially, ```message``` is set to ```\"Normal temperature\".```\n",
    "- Then, if ```temp > 38``` is ```True``` (e.g., the body temperature is greater than 38°C), the message is updated to ```\"Fever!\"```. Otherwise, if ```temp > 38``` is False, then the message is not updated.\n",
    "- Finally, ```message``` is returned by the function"
   ]
  },
  {
   "cell_type": "code",
   "execution_count": null,
   "id": "bce221e4-2d4a-4574-a20c-f7ec240b6f89",
   "metadata": {},
   "outputs": [],
   "source": [
    "def evaluate_temp(temp):\n",
    "    # Set an initial message\n",
    "    message = \"Normal temperature.\"\n",
    "    # Update value of message only if temperature greater than 38\n",
    "    if temp > 38:\n",
    "        message = \"Fever!\"\n",
    "    return message"
   ]
  },
  {
   "cell_type": "markdown",
   "id": "f7b159c4-f3f4-4f63-9fef-b4d2d17d2984",
   "metadata": {},
   "source": [
    "In the next code cell, we call the function, where the temperature is 37°C. The message is ```\"Normal temperature\"```, because the temperature is less than 38°C (```temp > 38``` evaluates to ```False```) in this case.\n",
    "\n"
   ]
  },
  {
   "cell_type": "code",
   "execution_count": null,
   "id": "9e833388-afcf-4808-a65c-17da296d2a8e",
   "metadata": {},
   "outputs": [],
   "source": [
    "print(evaluate_temp(37))\n"
   ]
  },
  {
   "cell_type": "markdown",
   "id": "4eaacf15-b79f-4500-a393-9935e219e29a",
   "metadata": {},
   "source": [
    "However, if the temperature is instead 39°C, since this is greater than 38°C, the message is updated to ```\"Fever!\"```.\n",
    "\n"
   ]
  },
  {
   "cell_type": "markdown",
   "id": "53a4765c-7629-45a0-857e-da384036cd8d",
   "metadata": {},
   "source": [
    "Note that there are two levels of indentation:\n",
    "\n",
    "- The first level of indentation is because we always need to indent the code block inside a function.\n",
    "- The second level of indentation is because we also need to indent the code block belonging to the \"if\" statement. (As you'll see, we'll also need to indent the code blocks for \"elif\" and \"else\" statements.)\n",
    "\n",
    "Note that because the return statement is not indented under the \"if\" statement, it is always executed, whether ```temp > 38``` is ```True``` or ```False```."
   ]
  },
  {
   "cell_type": "markdown",
   "id": "aaffda89-65ac-4cd1-aeab-56285a415886",
   "metadata": {},
   "source": [
    "#### \"if ... else\" statements\n"
   ]
  },
  {
   "cell_type": "markdown",
   "id": "813fb8c7-7f29-4ccf-a6a1-aa4842b426a4",
   "metadata": {},
   "source": [
    "We can use \"else\" statements to run code if a statement is False. The code under the \"if\" statement is run if the statement is ```True```, and the code under \"else\" is run if the statement is ```False```."
   ]
  },
  {
   "cell_type": "code",
   "execution_count": null,
   "id": "2b0dcb16-3765-4167-8245-4b04367f11ab",
   "metadata": {},
   "outputs": [],
   "source": [
    "def evaluate_temp_with_else(temp):\n",
    "    if temp > 38:\n",
    "        message = \"Fever!\"\n",
    "    else:\n",
    "        message = \"Normal temperature.\"\n",
    "    return message"
   ]
  },
  {
   "cell_type": "markdown",
   "id": "2a957b7d-3cbd-4a63-b33c-477efab83cd8",
   "metadata": {},
   "source": [
    "This ```evaluate_temp_with_else()``` function has equivalent behavior to the ```evaluate_temp()``` function.\n",
    "\n",
    "In the next code cell, we call this new function, where the temperature is 37°C. In this case, ```temp > 38``` evaluates to ```False```, so the code under the \"else\" statement is executed, and the ```Normal temperature```. message is returned."
   ]
  },
  {
   "cell_type": "code",
   "execution_count": null,
   "id": "2a0dbabe-1b57-4e64-b86e-4cd2d66bee06",
   "metadata": {},
   "outputs": [],
   "source": [
    "print(evaluate_temp_with_else(37))\n"
   ]
  },
  {
   "cell_type": "markdown",
   "id": "ee219e17-afe0-4fff-945e-5d49203c639c",
   "metadata": {},
   "source": [
    "#### \"if ... elif ... else\" statements¶\n"
   ]
  },
  {
   "cell_type": "markdown",
   "id": "e641873c-7b54-4381-a6e9-de017b067042",
   "metadata": {},
   "source": [
    "We can use \"elif\" (which is short for \"else if\") to check if multiple conditions might be true. The function below:\n",
    "\n",
    "- First checks if ```temp > 38```. If this is true, then the message is set to ```\"Fever!\"```.\n",
    "- As long as the message has not already been set, the function then checks if ```temp > 35```. If this is true, then the message is set to ```\"Normal temperature.\"```.\n",
    "- Then, if still no message has been set, the \"else\" statement ensures that the message is set to ```\"Low temperature.\"``` message is printed.\n",
    "You can think of \"elif\" as saying ... \"okay, that previous condition (e.g., ```temp > 38```) was false, so let's check if this new condition (e.g., ```temp > 35```) might be true!\""
   ]
  },
  {
   "cell_type": "code",
   "execution_count": null,
   "id": "7e6b2b61-a090-45aa-bdd6-d3611843528e",
   "metadata": {},
   "outputs": [],
   "source": [
    "def evaluate_temp_with_elif(temp):\n",
    "    if temp > 38:\n",
    "        message = \"Fever!\"\n",
    "    elif temp > 35:\n",
    "        message = \"Normal temperature.\"\n",
    "    else:\n",
    "        message = \"Low temperature.\"\n",
    "    return message"
   ]
  },
  {
   "cell_type": "markdown",
   "id": "0a6d2a39-5c3e-417b-bee3-36653050bfad",
   "metadata": {},
   "source": [
    "In the code cell below, we run the code under the \"elif\" statement, because ```temp > 38``` is ```False```, and ```temp > 35``` is ```True```. Once this code is run, the function skips over the \"else\" statement and returns the message.\n",
    "\n"
   ]
  },
  {
   "cell_type": "code",
   "execution_count": null,
   "id": "1a644d9c-9593-4d1c-8959-0ba6a29e4806",
   "metadata": {},
   "outputs": [],
   "source": [
    "evaluate_temp_with_elif(36)\n"
   ]
  },
  {
   "cell_type": "markdown",
   "id": "1ddf8190-31e1-46a5-8705-582d9ae1dc73",
   "metadata": {},
   "source": [
    "Finally, we try out a case where the temperature is less than 35°C. Since the conditionals in the \"if\" and \"elif\" statements both evaluate to ```False```, the code block inside the \"else\" statement is executed.\n",
    "\n"
   ]
  },
  {
   "cell_type": "code",
   "execution_count": null,
   "id": "c030e01f-aa78-46c0-8dda-83d7206c4e4e",
   "metadata": {},
   "outputs": [],
   "source": [
    "evaluate_temp_with_elif(34)\n"
   ]
  },
  {
   "cell_type": "markdown",
   "id": "e9ea2c7a-7ca9-469e-a288-f30cd01bc0f8",
   "metadata": {},
   "source": [
    "#### Example - Calculations¶\n",
    "In the examples so far, conditional statements were used to decide how to set the values of variables. But you can also use conditional statements to perform different calculations.\n",
    "\n",
    "In this next example, say you live in a country with only two tax brackets. Everyone earning less than 12,000 pays 25% in taxes, and anyone earning 12,000 or more pays 30%. The function below calculates how much tax is owed."
   ]
  },
  {
   "cell_type": "code",
   "execution_count": null,
   "id": "accc3ef1-46d6-4ef8-a9b3-ccab05352a35",
   "metadata": {},
   "outputs": [],
   "source": [
    "def get_taxes(earnings):\n",
    "    if earnings < 12000:\n",
    "        tax_owed = .25 * earnings\n",
    "    else:\n",
    "        tax_owed = .30 * earnings\n",
    "    return tax_owed"
   ]
  },
  {
   "cell_type": "markdown",
   "id": "4ee4c0a3-40c4-4a07-8e12-3abbb47e1dd0",
   "metadata": {},
   "source": [
    "The next code cell uses the function.\n",
    "\n"
   ]
  },
  {
   "cell_type": "code",
   "execution_count": null,
   "id": "e30d86d7-c53f-4414-90cf-2f2d98c37213",
   "metadata": {},
   "outputs": [],
   "source": [
    "ana_taxes = get_taxes(9000)\n",
    "bob_taxes = get_taxes(15000)\n",
    "\n",
    "print(ana_taxes)\n",
    "print(bob_taxes)"
   ]
  },
  {
   "cell_type": "markdown",
   "id": "529d4d72-27fa-4d5c-8bfe-b1360739cee6",
   "metadata": {},
   "source": [
    "In each case, we call the ```get_taxes()``` function and use the value that is returned to set the value of a variable.\n",
    "\n",
    "- For ```ana_taxes```, we calculate taxes owed by a person who earns 9,000. In this case, we call the ```get_taxes()``` function with ```earnings``` set to ```9000```. Thus, ```earnings < 12000``` is ```True```, and ```tax_owed``` is set to ```.25 * 9000```. Then we return the value of ```tax_owed```.\n",
    "- For ```bob_taxes```, we calculate taxes owed by a person who earns 15,000. In this case, we call the ```get_taxes()``` function with earnings set to 15000. Thus, ```earnings < 12000``` is False, and ```tax_owed``` is set to ```.30 * 15000```. Then we return the value of ```tax_owed```."
   ]
  },
  {
   "cell_type": "markdown",
   "id": "88d6146b-cd71-488b-a481-cc2a8e9988ba",
   "metadata": {},
   "source": [
    "Before we move on to another example - remember the ```add_three_or_eight()``` function from the introduction? It accepts a number as input and adds three if the input is less than 10, and otherwise adds eight. Can you figure out how you would write this function?"
   ]
  },
  {
   "cell_type": "code",
   "execution_count": null,
   "id": "539b70d6-f676-4cfd-8186-75a38a817f36",
   "metadata": {},
   "outputs": [],
   "source": [
    "def add_three_or_eight(number):\n",
    "    if number < 10:\n",
    "        result = number + 3\n",
    "    else:\n",
    "        result = number + 8\n",
    "    return result"
   ]
  },
  {
   "cell_type": "markdown",
   "id": "45eeffe7-1610-4e4c-a778-0ceb56ceaaf0",
   "metadata": {},
   "source": [
    "### Homework Part Two\n",
    "Read on multiple elif statements"
   ]
  },
  {
   "cell_type": "markdown",
   "id": "11ee6e16-e709-4846-ad63-4bf2dc7b98fe",
   "metadata": {},
   "source": [
    "#### Multiple \"elif\" statements¶\n",
    "So far, you have seen \"elif\" used only once in a function. But there's no limit to the number of \"elif\" statements you can use. For instance, the next block of code calculates the dose of medication (in milliliters) to give to a child, based on weight (in kilograms).\n",
    "\n",
    "Note: This function should not be used as medical advice, and represents a fake medication."
   ]
  },
  {
   "cell_type": "code",
   "execution_count": null,
   "id": "1a9b6510-a1e8-4b2a-8859-18cb50bef813",
   "metadata": {},
   "outputs": [],
   "source": [
    "def get_dose(weight):\n",
    "    # Dosage is 1.25 ml for anyone under 5.2 kg\n",
    "    if weight < 5.2:\n",
    "        dose = 1.25\n",
    "    elif weight < 7.9:\n",
    "        dose = 2.5\n",
    "    elif weight < 10.4:\n",
    "        dose = 3.75\n",
    "    elif weight < 15.9:\n",
    "        dose = 5\n",
    "    elif weight < 21.2:\n",
    "        dose = 7.5\n",
    "    # Dosage is 10 ml for anyone 21.2 kg or over\n",
    "    else:\n",
    "        dose = 10\n",
    "    return dose"
   ]
  },
  {
   "cell_type": "markdown",
   "id": "b6119020-972b-49d4-b70a-586347b9b22f",
   "metadata": {},
   "source": [
    "The next code cell runs the function. Make sure that the output makes sense to you!\n",
    "\n",
    "- In this case, the \"if\" statement was ```False```, and all of the \"elif\" statements evaluate to ```False```, until we get to ```weight < 15.9```, which is ```True```, and ```dose``` is set to 5.\n",
    "- Once an \"elif\" statement evaluates to ```True``` and the code block is run, the function skips over all remaining \"elif\" and \"else\" statements. After skipping these, all that is left is the return statement, which returns the value of ```dose```.\n",
    "- The order of the elif statements does matter here! Re-ordering the statements will return a very different result."
   ]
  },
  {
   "cell_type": "code",
   "execution_count": null,
   "id": "8be4b497-463b-4b92-a8da-3f3ce002310c",
   "metadata": {},
   "outputs": [],
   "source": [
    "print(get_dose(12))\n"
   ]
  },
  {
   "cell_type": "markdown",
   "id": "9330204e-60f5-42fe-bd0c-5bc8ffd5b89d",
   "metadata": {},
   "source": [
    "## Introduction to Lists"
   ]
  },
  {
   "cell_type": "markdown",
   "id": "dfd7e89d-aa34-4283-91a2-792f85856796",
   "metadata": {},
   "source": [
    "When doing data science, you need a way to organize your data so you can work with it efficiently. Python has many data structures available for holding your data, such as lists, sets, dictionaries, and tuples. In this tutorial, you will learn how to work with Python lists.\n",
    "\n"
   ]
  },
  {
   "cell_type": "markdown",
   "id": "8dd2ef0a-e49a-4d7d-87a7-627add561ea1",
   "metadata": {},
   "source": [
    "One way to do this is by organizing the names in a Python string.\n",
    "\n"
   ]
  },
  {
   "cell_type": "code",
   "execution_count": null,
   "id": "d7e60551-56fa-4f37-9c42-4b243e834dc0",
   "metadata": {},
   "outputs": [],
   "source": [
    "flowers = \"pink primrose,hard-leaved pocket orchid,canterbury bells,sweet pea,english marigold,tiger lily,moon orchid,bird of paradise,monkshood,globe thistle\"\n",
    "\n",
    "print(type(flowers))\n",
    "print(flowers)"
   ]
  },
  {
   "cell_type": "markdown",
   "id": "8655f100-2acd-4649-a8a5-fadfb8e7b9a8",
   "metadata": {},
   "source": [
    "Even better is to represent the same data in a Python list. To create a list, you need to use square brackets ([, ]) and separate each item with a comma. Every item in the list is a Python string, so each is enclosed in quotation marks.\n",
    "\n"
   ]
  },
  {
   "cell_type": "code",
   "execution_count": null,
   "id": "e3c93ad5-6a36-4cc3-9cb1-43177d59d6d0",
   "metadata": {},
   "outputs": [],
   "source": [
    "flowers_list = [\"pink primrose\", \"hard-leaved pocket orchid\", \"canterbury bells\", \"sweet pea\", \"english marigold\", \"tiger lily\", \"moon orchid\", \"bird of paradise\", \"monkshood\", \"globe thistle\"]\n",
    "\n",
    "print(type(flowers_list))\n",
    "print(flowers_list)"
   ]
  },
  {
   "cell_type": "markdown",
   "id": "3260832a-be22-407d-886b-a8e539e82fd1",
   "metadata": {},
   "source": [
    "At first glance, it doesn't look too different, whether you represent the information in a Python string or list. But as you will see, there are a lot of tasks that you can more easily do with a list. For instance, a list will make it easier to:\n",
    "    \n",
    "- get an item at a specified position (first, second, third, etc),\n",
    "- check the number of items, and\n",
    "- add and remove items."
   ]
  },
  {
   "cell_type": "markdown",
   "id": "08efe796-8c7f-4efa-ac0c-1a15eac4c325",
   "metadata": {},
   "source": [
    "### Lists"
   ]
  },
  {
   "cell_type": "markdown",
   "id": "4defa632-1761-44cd-9ca7-22fca960267f",
   "metadata": {},
   "source": [
    "#### Length\n",
    "We can count the number of entries in any list with len(), which is short for \"length\". You need only supply the name of the list in the parentheses."
   ]
  },
  {
   "cell_type": "code",
   "execution_count": null,
   "id": "a56f627a-c793-4cf8-9339-91fad120920f",
   "metadata": {},
   "outputs": [],
   "source": [
    "# The list has ten entries\n",
    "print(len(flowers_list))"
   ]
  },
  {
   "cell_type": "markdown",
   "id": "b4b17355-da73-4591-92de-a405c9c9cdab",
   "metadata": {},
   "source": [
    "#### Indexing¶\n",
    "We can refer to any item in the list according to its position in the list (first, second, third, etc). This is called ***indexing.***\n",
    "\n",
    "Note that Python uses zero-based indexing, which means that:\n",
    "\n",
    "- to pull the first entry in the list, you use 0,\n",
    "- to pull the second entry in the list, you use 1, and\n",
    "- to pull the final entry in the list, you use one less than the length of the list."
   ]
  },
  {
   "cell_type": "code",
   "execution_count": null,
   "id": "96a6215d-bd7c-418e-82e1-0f88e136f8f5",
   "metadata": {},
   "outputs": [],
   "source": [
    "print(\"First entry:\", flowers_list[0])\n",
    "print(\"Second entry:\", flowers_list[1])\n",
    "\n",
    "# The list has length ten, so we refer to final entry with 9\n",
    "print(\"Last entry:\", flowers_list[9])"
   ]
  },
  {
   "cell_type": "markdown",
   "id": "b0f972ea-5d63-403e-a3c0-c531c3921cce",
   "metadata": {},
   "source": [
    "**Side Note**: You may have noticed that in the code cell above, we use a single print() to print multiple items (both a Python string (like \"First entry:\") and a value from the list (like flowers_list[0]). To print multiple things in Python with a single command, we need only separate them with a comma."
   ]
  },
  {
   "cell_type": "markdown",
   "id": "0650fdf7-0148-4376-9f8a-07ffa862dd09",
   "metadata": {},
   "source": [
    "#### Slicing\n",
    "You can also pull a segment of a list (for instance, the first three entries or the last two entries). This is called slicing. For instance:\n",
    "\n",
    "- to pull the first x entries, you use [:x], and\n",
    "- to pull the last y entries, you use [-y:]."
   ]
  },
  {
   "cell_type": "code",
   "execution_count": null,
   "id": "f1640b2c-ee05-4f26-af1e-30e6f1d3e28e",
   "metadata": {},
   "outputs": [],
   "source": [
    "print(\"First three entries:\", flowers_list[:3])\n",
    "print(\"Final two entries:\", flowers_list[-2:])"
   ]
  },
  {
   "cell_type": "markdown",
   "id": "f70663cb-a598-40fb-ac1e-b62c60aaca22",
   "metadata": {},
   "source": [
    "As you can see above, when we slice a list, it returns a new, shortened list.\n",
    "\n"
   ]
  },
  {
   "cell_type": "markdown",
   "id": "0afa67e4-8e54-4cdf-9278-cd0bc3fa3170",
   "metadata": {},
   "source": [
    "### Homework Part Three \n",
    "Read on:\n",
    "- Removing items\n",
    "- Adding items\n",
    "- Working with different data types in lists"
   ]
  },
  {
   "cell_type": "markdown",
   "id": "41dc51c5-0fc1-4e1f-ad5d-b9f4d8469eb2",
   "metadata": {},
   "source": [
    "#### Removing items¶\n",
    "Remove an item from a list with .remove(), and put the item you would like to remove in parentheses."
   ]
  },
  {
   "cell_type": "code",
   "execution_count": null,
   "id": "6ffbba65-2628-454b-9558-0a3068db74cd",
   "metadata": {},
   "outputs": [],
   "source": [
    "flowers_list.remove(\"globe thistle\")\n",
    "print(flowers_list)"
   ]
  },
  {
   "cell_type": "markdown",
   "id": "994aec0c-c0ea-4703-9327-ac57286f4ee9",
   "metadata": {},
   "source": [
    "#### Adding items¶\n",
    "Add an item to a list with .append(), and put the item you would like to add in parentheses"
   ]
  },
  {
   "cell_type": "code",
   "execution_count": null,
   "id": "93157f68-ab52-4934-bd72-5e7ba8fab621",
   "metadata": {},
   "outputs": [],
   "source": [
    "flowers_list.append(\"snapdragon\")\n",
    "print(flowers_list)"
   ]
  },
  {
   "cell_type": "markdown",
   "id": "ce8363cc-4085-4e54-bd31-71aceb11675c",
   "metadata": {},
   "source": [
    "#### Lists are not just for strings¶\n",
    "So far, we have only worked with lists where each item in the list is a string. But lists can have items with any data type, including booleans, integers, and floats.\n",
    "\n",
    "As an example, consider hardcover book sales in the first week of April 2000 in a retail store."
   ]
  },
  {
   "cell_type": "code",
   "execution_count": null,
   "id": "c419f178-27c8-42d7-9805-316e1d0d6761",
   "metadata": {},
   "outputs": [],
   "source": [
    "hardcover_sales = [139, 128, 172, 139, 191, 168, 170]"
   ]
  },
  {
   "cell_type": "markdown",
   "id": "a9505814-cf61-4a76-84b8-41866cfecc78",
   "metadata": {},
   "source": [
    "Here, ```hardcover_sales``` is a list of integers. Similar to when working with strings, you can still do things like get the length, pull individual entries, and extend the list.\n",
    "\n"
   ]
  },
  {
   "cell_type": "code",
   "execution_count": null,
   "id": "691d2146-4ebf-4c82-93f7-d1f1f30c1b53",
   "metadata": {},
   "outputs": [],
   "source": [
    "print(\"Length of the list:\", len(hardcover_sales))\n",
    "print(\"Entry at index 2:\", hardcover_sales[2])"
   ]
  },
  {
   "cell_type": "markdown",
   "id": "8ab4066e-6873-407f-b2bf-7049627c589d",
   "metadata": {},
   "source": [
    "You can also get the minimum with ```min()``` and the maximum with ```max()```.\n",
    "\n"
   ]
  },
  {
   "cell_type": "code",
   "execution_count": null,
   "id": "a21fd1e9-a609-452d-9e14-459dde203456",
   "metadata": {},
   "outputs": [],
   "source": [
    "print(\"Minimum:\", min(hardcover_sales))\n",
    "print(\"Maximum:\", max(hardcover_sales))"
   ]
  },
  {
   "cell_type": "markdown",
   "id": "e8787910-8ad8-49c6-ac0e-62752f12ebd4",
   "metadata": {},
   "source": [
    "To add every item in the list, use ```sum()```.\n",
    "\n"
   ]
  },
  {
   "cell_type": "code",
   "execution_count": null,
   "id": "ff5b340e-d297-4258-b070-21e7de7f8a05",
   "metadata": {},
   "outputs": [],
   "source": [
    "print(\"Total books sold in one week:\", sum(hardcover_sales))"
   ]
  },
  {
   "cell_type": "markdown",
   "id": "6174a06c-95de-4faa-9928-a24a5bdc52a3",
   "metadata": {},
   "source": [
    "We can also do similar calculations with slices of the list. In the next code cell, we take the sum from the first five days ```(sum(hardcover_sales[:5]))```, and then divide by five to get the average number of books sold in the first five days."
   ]
  },
  {
   "cell_type": "code",
   "execution_count": null,
   "id": "031bd34f-dc2a-4df7-bb0f-96cb61565aad",
   "metadata": {},
   "outputs": [],
   "source": [
    "print(\"Average books sold in first five days:\", sum(hardcover_sales[:5])/5)"
   ]
  },
  {
   "cell_type": "markdown",
   "id": "34acea15-56e7-48e2-becf-776481d8b340",
   "metadata": {},
   "source": [
    "## More Resources"
   ]
  },
  {
   "cell_type": "markdown",
   "id": "19e1275a-43c9-4499-b805-526be8c35f8f",
   "metadata": {},
   "source": [
    "You can find practice exercises for this class on Kaggle. \n",
    "1. [Arithmetic and Variables](https://www.kaggle.com/kernels/fork/25258219)\n",
    "2. [Functions](https://www.kaggle.com/kernels/fork/25258226)\n",
    "3. [Data Types](https://www.kaggle.com/kernels/fork/25258226)\n",
    "4. [Conditions and Conditional Statements](https://www.kaggle.com/kernels/fork/25880622)\n",
    "5. [Introduction to Lists](https://www.kaggle.com/kernels/fork/26034864)\n",
    "\n",
    "Reading Material\n",
    "- Functions: https://www.geeksforgeeks.org/python-functions/\n",
    "- Lists: https://www.geeksforgeeks.org/python-lists/\n",
    "- Conditional statements: https://www.geeksforgeeks.org/conditional-statements-in-python/ "
   ]
  },
  {
   "cell_type": "code",
   "execution_count": null,
   "id": "d90d1dea-64e6-44c0-9192-784fffe3e699",
   "metadata": {},
   "outputs": [],
   "source": []
  }
 ],
 "metadata": {
  "kernelspec": {
   "display_name": "Python 3 (ipykernel)",
   "language": "python",
   "name": "python3"
  },
  "language_info": {
   "codemirror_mode": {
    "name": "ipython",
    "version": 3
   },
   "file_extension": ".py",
   "mimetype": "text/x-python",
   "name": "python",
   "nbconvert_exporter": "python",
   "pygments_lexer": "ipython3",
   "version": "3.11.7"
  }
 },
 "nbformat": 4,
 "nbformat_minor": 5
}
